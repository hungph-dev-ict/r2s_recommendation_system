{
 "cells": [
  {
   "cell_type": "code",
   "execution_count": 76,
   "metadata": {},
   "outputs": [],
   "source": [
    "import pandas as pd\n",
    "import numpy as np\n",
    "import time\n",
    "from surprise import KNNBasic\n",
    "from surprise import Dataset\n",
    "from surprise import KNNBaseline\n",
    "from surprise import reader, accuracy\n",
    "import math\n",
    "from sklearn.model_selection import train_test_split"
   ]
  },
  {
   "cell_type": "code",
   "execution_count": 77,
   "metadata": {},
   "outputs": [
    {
     "data": {
      "text/html": [
       "<div>\n",
       "<style scoped>\n",
       "    .dataframe tbody tr th:only-of-type {\n",
       "        vertical-align: middle;\n",
       "    }\n",
       "\n",
       "    .dataframe tbody tr th {\n",
       "        vertical-align: top;\n",
       "    }\n",
       "\n",
       "    .dataframe thead th {\n",
       "        text-align: right;\n",
       "    }\n",
       "</style>\n",
       "<table border=\"1\" class=\"dataframe\">\n",
       "  <thead>\n",
       "    <tr style=\"text-align: right;\">\n",
       "      <th></th>\n",
       "      <th>app_id</th>\n",
       "      <th>item_id</th>\n",
       "      <th>user_id</th>\n",
       "      <th>rate</th>\n",
       "    </tr>\n",
       "  </thead>\n",
       "  <tbody>\n",
       "    <tr>\n",
       "      <th>0</th>\n",
       "      <td>1</td>\n",
       "      <td>391.0</td>\n",
       "      <td>98.0</td>\n",
       "      <td>5.0</td>\n",
       "    </tr>\n",
       "    <tr>\n",
       "      <th>1</th>\n",
       "      <td>1</td>\n",
       "      <td>1402.0</td>\n",
       "      <td>47.0</td>\n",
       "      <td>2.0</td>\n",
       "    </tr>\n",
       "    <tr>\n",
       "      <th>2</th>\n",
       "      <td>1</td>\n",
       "      <td>1004.0</td>\n",
       "      <td>76.0</td>\n",
       "      <td>2.0</td>\n",
       "    </tr>\n",
       "    <tr>\n",
       "      <th>3</th>\n",
       "      <td>1</td>\n",
       "      <td>1246.0</td>\n",
       "      <td>85.0</td>\n",
       "      <td>2.0</td>\n",
       "    </tr>\n",
       "    <tr>\n",
       "      <th>4</th>\n",
       "      <td>1</td>\n",
       "      <td>1346.0</td>\n",
       "      <td>45.0</td>\n",
       "      <td>0.0</td>\n",
       "    </tr>\n",
       "  </tbody>\n",
       "</table>\n",
       "</div>"
      ],
      "text/plain": [
       "   app_id  item_id  user_id  rate\n",
       "0       1    391.0     98.0   5.0\n",
       "1       1   1402.0     47.0   2.0\n",
       "2       1   1004.0     76.0   2.0\n",
       "3       1   1246.0     85.0   2.0\n",
       "4       1   1346.0     45.0   0.0"
      ]
     },
     "execution_count": 77,
     "metadata": {},
     "output_type": "execute_result"
    }
   ],
   "source": [
    "#load dữ liệu vào\n",
    "interactions_full_check = pd.read_csv('../course_user.csv')\n",
    "interactions_full_check.head(5)"
   ]
  },
  {
   "cell_type": "code",
   "execution_count": 78,
   "metadata": {},
   "outputs": [],
   "source": [
    "class RecSys_using_CF(object):\n",
    "    def __init__(self, interactions_full_check):\n",
    "        self.interactions_full_check = interactions_full_check\n",
    "    \n",
    "    #hàm tính strength point\n",
    "    def smooth_user_preference(self,x):\n",
    "        return math.log(1+float(x), 2)\n",
    "    \n",
    "    #hàm lấy ra dữ liệu tương ứng với app id\n",
    "    def get_app_id(self,a_id):\n",
    "        interactions_full_df = self.interactions_full_check.groupby(['app_id','user_id', 'item_id'])['rate'].sum().apply(self.smooth_user_preference).reset_index()\n",
    "        self.dataset = interactions_full_df[interactions_full_df.app_id == a_id].iloc[:, 1:]\n",
    "        return self.dataset\n",
    "    \n",
    "    # chuyển dữ liệu sang form theo thư viện surprise\n",
    "    def data_form(self, a_id):\n",
    "        self.get_app_id(a_id)\n",
    "        r_s = reader.Reader(rating_scale=(0.1, 15))\n",
    "        data_train_df = Dataset.load_from_df(self.dataset, r_s)\n",
    "        self.data_train = data_train_df.build_full_trainset()\n",
    "       \n",
    "    #các thuật toán gợi ý theo user-user và item_item\n",
    "    def model(self):\n",
    "        bsl_options = {'method': 'sgd',\n",
    "               'learning_rate': .00005,\n",
    "               }\n",
    "        sim_options_uuCF={'name': 'pearson_baseline', 'user_based': True, 'shrinkage':100}\n",
    "        sim_options_iiCF = {'name': 'pearson_baseline', 'user_based': False, 'shrinkage':100}\n",
    "        \n",
    "        #sim_options_uuCF={'name': 'cosine', 'user_based': True}\n",
    "        #sim_options_iiCF = {'name': 'cosine', 'user_based': False}\n",
    "        self.algo_iiCF = KNNBaseline(bsl_options=bsl_options,sim_options=sim_options_iiCF, k=10)\n",
    "        self.algo_uuCF = KNNBaseline(bsl_options=bsl_options,sim_options=sim_options_uuCF, k=10)\n",
    "        \n",
    "    #fit model\n",
    "    def fit(self, a_id):\n",
    "        self.data_form(a_id)\n",
    "        self.model()\n",
    "        self.algo_iiCF.fit(self.data_train)\n",
    "        self.algo_uuCF.fit(self.data_train)\n",
    "        \n",
    "    #đưa ra k items gợi ý cho 1 user, k mặc định bằng 5\n",
    "    def recommend_items_to_user(self, user_id, k=5):\n",
    "        full_items_id = self.dataset.item_id.unique()#danh sách các tất cả các itemid\n",
    "        items_rated = self.dataset[self.dataset.user_id == user_id].item_id.values # các item được rate bởi user\n",
    "        items_not_rated = list(set(full_items_id) - set(items_rated))#các item chưa được rate bởi user\n",
    "        #lấy danh sách k items gợi ý cho user\n",
    "        list_rate = []\n",
    "        for i in items_not_rated:\n",
    "            _, _, _, r, _ = self.algo_iiCF.predict(user_id, i) # dự đoán rating user cho 1 item\n",
    "            list_rate.append(r) # thêm vào list_rate\n",
    "        idx = np.argsort(list_rate)[::-1][:k] # vị trí k items có điểm dự đoán cao nhất\n",
    "        items_recommended = list(np.array(items_not_rated)[idx]) # k items được gợi ý\n",
    "        #return {user_id: items_recommended}\n",
    "        return {user_id : items_recommended}\n",
    "\n",
    "    #đưa ra k users gợi ý cho 1 item, k mặc định bằng 5\n",
    "    #các bước tương tự như trong hàm recommend_items_to_user\n",
    "    def recommend_users_to_item(self, item_id, k=5):\n",
    "        full_users_id = self.dataset.user_id.unique()\n",
    "        users_rate = self.dataset[self.dataset.item_id == item_id].user_id.values\n",
    "        users_not_rate = list(set(full_users_id) - set(users_rate))\n",
    "        list_rate = []\n",
    "        for i in users_not_rate:\n",
    "            _, _, _, r, _ = self.algo_iiCF.predict(i, item_id)\n",
    "            list_rate.append(r)\n",
    "        idx = np.argsort(list_rate)[::-1][:k]\n",
    "        users_recommended = list(np.array(users_not_rate)[idx])\n",
    "        #return {item_id: users_recommended}\n",
    "        return {item_id : users_recommended}\n",
    "        \n",
    "    #đưa ra k users gợi ý cho 1 user, k mặc định bằng 5\n",
    "    def recommend_users_to_user(self, user_id, k=5):\n",
    "        user_iid = self.data_train.to_inner_uid(user_id) # chuyển hóa raw user_id của dataset gốc thành user_id dùng trong model\n",
    "        users_iid_recommended = self.algo_uuCF.get_neighbors(user_iid, k) # lấy ra k users giống nhất với user\n",
    "        #lấy danh sách k users gợi ý cho user\n",
    "        users_recommended = []\n",
    "        for i in users_iid_recommended:\n",
    "            convert_uid = self.data_train.to_raw_uid(i) #chuyển hóa user_id trong model sang user_id gốc\n",
    "            users_recommended.append(convert_uid)\n",
    "        return {user_id: users_recommended}\n",
    "    \n",
    "    #đưa ra k items gợi ý cho 1 item, k mặc định bằng 5\n",
    "    #các bước tương tự như trong hàm users_to_user\n",
    "    def recommend_items_to_item(self, item_id, k=5):\n",
    "        item_iid = self.data_train.to_inner_iid(item_id)\n",
    "        items_iid_recommended = self.algo_iiCF.get_neighbors(item_iid, k)\n",
    "        items_recommended = []\n",
    "        for i in items_iid_recommended:\n",
    "            convert_uid = self.data_train.to_raw_iid(i)\n",
    "            items_recommended.append(convert_uid)\n",
    "        return {item_id: items_recommended}\n",
    "        "
   ]
  },
  {
   "cell_type": "code",
   "execution_count": 79,
   "metadata": {},
   "outputs": [],
   "source": [
    "Model = RecSys_using_CF(interactions_full_check=interactions_full_check)"
   ]
  },
  {
   "cell_type": "code",
   "execution_count": 82,
   "metadata": {},
   "outputs": [
    {
     "name": "stdout",
     "output_type": "stream",
     "text": [
      "Estimating biases using sgd...\n",
      "Computing the pearson_baseline similarity matrix...\n",
      "Done computing similarity matrix.\n",
      "Estimating biases using sgd...\n",
      "Computing the pearson_baseline similarity matrix...\n",
      "Done computing similarity matrix.\n"
     ]
    },
    {
     "data": {
      "text/plain": [
       "0.6500699520111084"
      ]
     },
     "execution_count": 82,
     "metadata": {},
     "output_type": "execute_result"
    }
   ],
   "source": [
    "t1 = time.time()\n",
    "Model.fit(a_id=1)\n",
    "t2 = time.time()\n",
    "t2 - t1"
   ]
  },
  {
   "cell_type": "code",
   "execution_count": 83,
   "metadata": {},
   "outputs": [
    {
     "data": {
      "text/plain": [
       "{'82': [448.0,\n",
       "  445.0,\n",
       "  790.0,\n",
       "  254.0,\n",
       "  1229.0,\n",
       "  78.0,\n",
       "  492.0,\n",
       "  1232.0,\n",
       "  1303.0,\n",
       "  1269.0]}"
      ]
     },
     "execution_count": 83,
     "metadata": {},
     "output_type": "execute_result"
    }
   ],
   "source": [
    "Model.recommend_items_to_user(user_id='82', k=10)"
   ]
  },
  {
   "cell_type": "code",
   "execution_count": 16,
   "metadata": {},
   "outputs": [
    {
     "data": {
      "text/plain": [
       "{'3': []}"
      ]
     },
     "execution_count": 16,
     "metadata": {},
     "output_type": "execute_result"
    }
   ],
   "source": [
    "Model.recommend_users_to_item(item_id='3')"
   ]
  },
  {
   "cell_type": "code",
   "execution_count": 17,
   "metadata": {},
   "outputs": [
    {
     "ename": "ValueError",
     "evalue": "Item 3 is not part of the trainset.",
     "output_type": "error",
     "traceback": [
      "\u001b[0;31m-----------------------------------------------------------------------\u001b[0m",
      "\u001b[0;31mValueError\u001b[0m                            Traceback (most recent call last)",
      "\u001b[0;32m<ipython-input-17-3b1b2418c75f>\u001b[0m in \u001b[0;36m<module>\u001b[0;34m()\u001b[0m\n\u001b[0;32m----> 1\u001b[0;31m \u001b[0mModel\u001b[0m\u001b[0;34m.\u001b[0m\u001b[0mrecommend_items_to_item\u001b[0m\u001b[0;34m(\u001b[0m\u001b[0mitem_id\u001b[0m\u001b[0;34m=\u001b[0m\u001b[0;34m'3'\u001b[0m\u001b[0;34m,\u001b[0m \u001b[0mk\u001b[0m\u001b[0;34m=\u001b[0m\u001b[0;36m10\u001b[0m\u001b[0;34m)\u001b[0m\u001b[0;34m\u001b[0m\u001b[0m\n\u001b[0m",
      "\u001b[0;32m<ipython-input-13-154f08960c88>\u001b[0m in \u001b[0;36mrecommend_items_to_item\u001b[0;34m(self, item_id, k)\u001b[0m\n\u001b[1;32m     84\u001b[0m     \u001b[0;31m#các bước tương tự như trong hàm users_to_user\u001b[0m\u001b[0;34m\u001b[0m\u001b[0;34m\u001b[0m\u001b[0m\n\u001b[1;32m     85\u001b[0m     \u001b[0;32mdef\u001b[0m \u001b[0mrecommend_items_to_item\u001b[0m\u001b[0;34m(\u001b[0m\u001b[0mself\u001b[0m\u001b[0;34m,\u001b[0m \u001b[0mitem_id\u001b[0m\u001b[0;34m,\u001b[0m \u001b[0mk\u001b[0m\u001b[0;34m=\u001b[0m\u001b[0;36m5\u001b[0m\u001b[0;34m)\u001b[0m\u001b[0;34m:\u001b[0m\u001b[0;34m\u001b[0m\u001b[0m\n\u001b[0;32m---> 86\u001b[0;31m         \u001b[0mitem_iid\u001b[0m \u001b[0;34m=\u001b[0m \u001b[0mself\u001b[0m\u001b[0;34m.\u001b[0m\u001b[0mdata_train\u001b[0m\u001b[0;34m.\u001b[0m\u001b[0mto_inner_iid\u001b[0m\u001b[0;34m(\u001b[0m\u001b[0mitem_id\u001b[0m\u001b[0;34m)\u001b[0m\u001b[0;34m\u001b[0m\u001b[0m\n\u001b[0m\u001b[1;32m     87\u001b[0m         \u001b[0mitems_iid_recommended\u001b[0m \u001b[0;34m=\u001b[0m \u001b[0mself\u001b[0m\u001b[0;34m.\u001b[0m\u001b[0malgo_iiCF\u001b[0m\u001b[0;34m.\u001b[0m\u001b[0mget_neighbors\u001b[0m\u001b[0;34m(\u001b[0m\u001b[0mitem_iid\u001b[0m\u001b[0;34m,\u001b[0m \u001b[0mk\u001b[0m\u001b[0;34m)\u001b[0m\u001b[0;34m\u001b[0m\u001b[0m\n\u001b[1;32m     88\u001b[0m         \u001b[0mitems_recommended\u001b[0m \u001b[0;34m=\u001b[0m \u001b[0;34m[\u001b[0m\u001b[0;34m]\u001b[0m\u001b[0;34m\u001b[0m\u001b[0m\n",
      "\u001b[0;32m/home/hungph/.local/lib/python2.7/site-packages/surprise/trainset.pyc\u001b[0m in \u001b[0;36mto_inner_iid\u001b[0;34m(self, riid)\u001b[0m\n\u001b[1;32m    152\u001b[0m         \u001b[0;32mexcept\u001b[0m \u001b[0mKeyError\u001b[0m\u001b[0;34m:\u001b[0m\u001b[0;34m\u001b[0m\u001b[0m\n\u001b[1;32m    153\u001b[0m             raise ValueError('Item ' + str(riid) +\n\u001b[0;32m--> 154\u001b[0;31m                              ' is not part of the trainset.')\n\u001b[0m\u001b[1;32m    155\u001b[0m \u001b[0;34m\u001b[0m\u001b[0m\n\u001b[1;32m    156\u001b[0m     \u001b[0;32mdef\u001b[0m \u001b[0mto_raw_iid\u001b[0m\u001b[0;34m(\u001b[0m\u001b[0mself\u001b[0m\u001b[0;34m,\u001b[0m \u001b[0miiid\u001b[0m\u001b[0;34m)\u001b[0m\u001b[0;34m:\u001b[0m\u001b[0;34m\u001b[0m\u001b[0m\n",
      "\u001b[0;31mValueError\u001b[0m: Item 3 is not part of the trainset."
     ]
    }
   ],
   "source": [
    "Model.recommend_items_to_item(item_id='3', k=10)"
   ]
  },
  {
   "cell_type": "code",
   "execution_count": 20,
   "metadata": {},
   "outputs": [
    {
     "data": {
      "text/plain": [
       "{'82': []}"
      ]
     },
     "execution_count": 20,
     "metadata": {},
     "output_type": "execute_result"
    }
   ],
   "source": [
    "Model.recommend_items_to_user(user_id='1', k=10)"
   ]
  },
  {
   "cell_type": "code",
   "execution_count": 15,
   "metadata": {},
   "outputs": [
    {
     "data": {
      "text/plain": [
       "{'1': ['592', '59', '13', '60', '276', '222', '303', '429', '457', '479']}"
      ]
     },
     "execution_count": 15,
     "metadata": {},
     "output_type": "execute_result"
    }
   ],
   "source": [
    "Model.recommend_users_to_user(user_id='1', k=10)"
   ]
  },
  {
   "cell_type": "code",
   "execution_count": 16,
   "metadata": {},
   "outputs": [
    {
     "ename": "NameError",
     "evalue": "name 'X_test' is not defined",
     "output_type": "error",
     "traceback": [
      "\u001b[0;31m-----------------------------------------------------------------------\u001b[0m",
      "\u001b[0;31mNameError\u001b[0m                             Traceback (most recent call last)",
      "\u001b[0;32m<ipython-input-16-87b56bac12a2>\u001b[0m in \u001b[0;36m<module>\u001b[0;34m\u001b[0m\n\u001b[0;32m----> 1\u001b[0;31m \u001b[0musers_test\u001b[0m \u001b[0;34m=\u001b[0m \u001b[0mX_test\u001b[0m\u001b[0;34m[\u001b[0m\u001b[0mX_test\u001b[0m\u001b[0;34m.\u001b[0m\u001b[0mapp_id\u001b[0m \u001b[0;34m==\u001b[0m \u001b[0;34m\"1\"\u001b[0m\u001b[0;34m]\u001b[0m\u001b[0;34m.\u001b[0m\u001b[0muser_id\u001b[0m\u001b[0;34m.\u001b[0m\u001b[0munique\u001b[0m\u001b[0;34m(\u001b[0m\u001b[0;34m)\u001b[0m\u001b[0;34m\u001b[0m\u001b[0;34m\u001b[0m\u001b[0m\n\u001b[0m\u001b[1;32m      2\u001b[0m \u001b[0mitems_test\u001b[0m \u001b[0;34m=\u001b[0m \u001b[0mX_test\u001b[0m\u001b[0;34m[\u001b[0m\u001b[0mX_test\u001b[0m\u001b[0;34m.\u001b[0m\u001b[0mapp_id\u001b[0m \u001b[0;34m==\u001b[0m \u001b[0;34m\"1\"\u001b[0m\u001b[0;34m]\u001b[0m\u001b[0;34m.\u001b[0m\u001b[0mitem_id\u001b[0m\u001b[0;34m.\u001b[0m\u001b[0munique\u001b[0m\u001b[0;34m(\u001b[0m\u001b[0;34m)\u001b[0m\u001b[0;34m\u001b[0m\u001b[0;34m\u001b[0m\u001b[0m\n",
      "\u001b[0;31mNameError\u001b[0m: name 'X_test' is not defined"
     ]
    }
   ],
   "source": [
    "users_test = X_test[X_test.app_id == \"1\"].user_id.unique()\n",
    "items_test = X_test[X_test.app_id == \"1\"].item_id.unique()"
   ]
  },
  {
   "cell_type": "code",
   "execution_count": null,
   "metadata": {},
   "outputs": [],
   "source": [
    "count_item_rated_user = []\n",
    "for i in range(len(users_test)):\n",
    "    count_item_rated_user.append(X_test[X_test.app_id == \"1\"].groupby(\"user_id\").get_group(users_test[i]).item_id.unique())\n",
    "    \n",
    "count_user_rate_item = []\n",
    "for i in range(len(items_test)):\n",
    "    count_user_rate_item.append(X_test[X_test.app_id == \"1\"].groupby(\"item_id\").get_group(items_test[i]).user_id.unique())\n",
    "    "
   ]
  },
  {
   "cell_type": "code",
   "execution_count": null,
   "metadata": {},
   "outputs": [],
   "source": [
    "t1 = time.time()\n",
    "chose = [10,20,30]\n",
    "for j in range(1):\n",
    "    recall = 0\n",
    "    for i in range(1407):\n",
    "        user_true = set(count_user_rate_item[i]) - (set(count_user_rate_item[i]) - set(Model.recommend_users_to_item(item_id=items_test[i],k=chose[j])))\n",
    "        recall += len(user_true)/len(count_user_rate_item[i])\n",
    "    print(recall/len(items_test))\n",
    "\n",
    "t2 = time.time()\n",
    "t2 - t1"
   ]
  },
  {
   "cell_type": "code",
   "execution_count": null,
   "metadata": {},
   "outputs": [],
   "source": [
    "t1 = time.time()\n",
    "recall = 0\n",
    "for i in range(len(users_test)):\n",
    "    user_true = set(count_item_rated_user[i]) - (set(count_item_rated_user[i]) - set(Model.recommend_items_to_user(user_id=users_test[i],k=30)))\n",
    "    recall += len(user_true)/len(count_item_rated_user[i])\n",
    "print(recall/len(users_test))\n",
    "\n",
    "t2 = time.time()\n",
    "t2 - t1"
   ]
  },
  {
   "cell_type": "code",
   "execution_count": null,
   "metadata": {},
   "outputs": [],
   "source": []
  }
 ],
 "metadata": {
  "kernelspec": {
   "display_name": "recommendation_system",
   "language": "python",
   "name": "recommendation_system"
  },
  "language_info": {
   "codemirror_mode": {
    "name": "ipython",
    "version": 2
   },
   "file_extension": ".py",
   "mimetype": "text/x-python",
   "name": "python",
   "nbconvert_exporter": "python",
   "pygments_lexer": "ipython2",
   "version": "2.7.16"
  }
 },
 "nbformat": 4,
 "nbformat_minor": 2
}
